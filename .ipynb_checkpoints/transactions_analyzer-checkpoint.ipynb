{
 "cells": [
  {
   "cell_type": "markdown",
   "id": "6e7f10f0",
   "metadata": {},
   "source": [
    "# Table of Contents\n",
    "* [Intro](#Intro)\n",
    "* [Get Transactions By Transaction_hash](#Get-transactions-by-transaction_hash)\n",
    "* [Latest 200 transactions](#Latest-200-transactions)\n",
    "\t* [Latest 200 transactions which are submitted to the pool](#Latest-200-transactions-which-are-submitted-to-the-pool)\n",
    "\t* [Latest 200 transactions which proposed on chain](#Latest-200-transactions-which-proposed-on-chain)\n",
    "\t* [Latest 200 transactions which recevide by different node](#Latest-200-transactions-which-recevide-by-different-node)\n",
    "* [Display transactions data by PandasGUI](#Display-transactions-data-by-PandasGUI)\n"
   ]
  },
  {
   "cell_type": "markdown",
   "id": "1fb1ba79",
   "metadata": {},
   "source": [
    "# Intro"
   ]
  },
  {
   "cell_type": "markdown",
   "id": "f5a1808a",
   "metadata": {},
   "source": [
    "This notebook explores analysis of transactions data."
   ]
  },
  {
   "cell_type": "code",
   "execution_count": null,
   "id": "59eecbba",
   "metadata": {},
   "outputs": [],
   "source": [
    "from src import transactions_analyzer\n",
    "import pandas as pd\n",
    "from pandasgui import show\n",
    "import ipywidgets as widgets\n",
    "import tabloo"
   ]
  },
  {
   "cell_type": "markdown",
   "id": "a8bc9f49",
   "metadata": {},
   "source": [
    "# Get transactions by transaction_hash"
   ]
  },
  {
   "cell_type": "code",
   "execution_count": 20,
   "id": "2dd1d3eb",
   "metadata": {
    "scrolled": false
   },
   "outputs": [
    {
     "data": {
      "application/vnd.jupyter.widget-view+json": {
       "model_id": "802a428b85234534b3cfdd558c3b8528",
       "version_major": 2,
       "version_minor": 0
      },
      "text/plain": [
       "Text(value='', description='TX_HASH:', placeholder='Type transaction hash to search txs')"
      ]
     },
     "metadata": {},
     "output_type": "display_data"
    },
    {
     "name": "stdout",
     "output_type": "stream",
     "text": [
      "engine created!\n"
     ]
    },
    {
     "data": {
      "text/html": [
       "<style  type=\"text/css\" >\n",
       "</style><table id=\"T_1344b_\" style='border:2px solid;font-size:15px;margin:10px'><caption>tx_transaction</caption><thead>    <tr>        <th class=\"blank level0\" ></th>        <th class=\"col_heading level0 col0\" >network</th>        <th class=\"col_heading level0 col1\" >enter_time</th>        <th class=\"col_heading level0 col2\" >commit_time</th>        <th class=\"col_heading level0 col3\" >remove_time</th>        <th class=\"col_heading level0 col4\" >hash</th>    </tr></thead><tbody>\n",
       "                <tr>\n",
       "                        <th id=\"T_1344b_level0_row0\" class=\"row_heading level0 row0\" >0</th>\n",
       "                        <td id=\"T_1344b_row0_col0\" class=\"data row0 col0\" >aggron</td>\n",
       "                        <td id=\"T_1344b_row0_col1\" class=\"data row0 col1\" >2021-05-28 14:06:45.184495</td>\n",
       "                        <td id=\"T_1344b_row0_col2\" class=\"data row0 col2\" >None</td>\n",
       "                        <td id=\"T_1344b_row0_col3\" class=\"data row0 col3\" >2021-05-28 14:10:28.437460</td>\n",
       "                        <td id=\"T_1344b_row0_col4\" class=\"data row0 col4\" >0x21da2455dc65524945b1163df70e1e7fe5f747462e0fd4173751fad51ed465af</td>\n",
       "            </tr>\n",
       "    </tbody></table><style  type=\"text/css\" >\n",
       "</style><table id=\"T_8646d_\" style='border:2px solid;font-size:15px;margin:10px'><caption>subscribe_new_transaction</caption><thead>    <tr>        <th class=\"blank level0\" ></th>        <th class=\"col_heading level0 col0\" >network</th>        <th class=\"col_heading level0 col1\" >time</th>        <th class=\"col_heading level0 col2\" >hostname</th>        <th class=\"col_heading level0 col3\" >transaction_hash</th>    </tr></thead><tbody>\n",
       "                <tr>\n",
       "                        <th id=\"T_8646d_level0_row0\" class=\"row_heading level0 row0\" >0</th>\n",
       "                        <td id=\"T_8646d_row0_col0\" class=\"data row0 col0\" >aggron</td>\n",
       "                        <td id=\"T_8646d_row0_col1\" class=\"data row0 col1\" >2021-05-28 14:06:45.196826</td>\n",
       "                        <td id=\"T_8646d_row0_col2\" class=\"data row0 col2\" >aggron-tokyo</td>\n",
       "                        <td id=\"T_8646d_row0_col3\" class=\"data row0 col3\" >0x21da2455dc65524945b1163df70e1e7fe5f747462e0fd4173751fad51ed465af</td>\n",
       "            </tr>\n",
       "    </tbody></table><style  type=\"text/css\" >\n",
       "</style><table id=\"T_f6433_\" style='border:2px solid;font-size:15px;margin:10px'><caption>proposed_transaction</caption><thead>    <tr>        <th class=\"blank level0\" ></th>        <th class=\"col_heading level0 col0\" >network</th>        <th class=\"col_heading level0 col1\" >time</th>        <th class=\"col_heading level0 col2\" >hostname</th>        <th class=\"col_heading level0 col3\" >transaction_hash</th>    </tr></thead><tbody>\n",
       "        </tbody></table>"
      ]
     },
     "metadata": {},
     "output_type": "display_data"
    },
    {
     "name": "stdout",
     "output_type": "stream",
     "text": [
      "engine created!\n"
     ]
    },
    {
     "data": {
      "text/html": [
       "<style  type=\"text/css\" >\n",
       "</style><table id=\"T_9f248_\" style='border:2px solid;font-size:15px;margin:10px'><caption>tx_transaction</caption><thead>    <tr>        <th class=\"blank level0\" ></th>        <th class=\"col_heading level0 col0\" >network</th>        <th class=\"col_heading level0 col1\" >enter_time</th>        <th class=\"col_heading level0 col2\" >commit_time</th>        <th class=\"col_heading level0 col3\" >remove_time</th>        <th class=\"col_heading level0 col4\" >hash</th>    </tr></thead><tbody>\n",
       "                <tr>\n",
       "                        <th id=\"T_9f248_level0_row0\" class=\"row_heading level0 row0\" >0</th>\n",
       "                        <td id=\"T_9f248_row0_col0\" class=\"data row0 col0\" >aggron</td>\n",
       "                        <td id=\"T_9f248_row0_col1\" class=\"data row0 col1\" >2021-05-28 14:07:15.219764</td>\n",
       "                        <td id=\"T_9f248_row0_col2\" class=\"data row0 col2\" >2021-05-28 14:07:20.000298</td>\n",
       "                        <td id=\"T_9f248_row0_col3\" class=\"data row0 col3\" >None</td>\n",
       "                        <td id=\"T_9f248_row0_col4\" class=\"data row0 col4\" >0xa0f5e3505e647aafed1a6837a31d648e34e71253974f36e9a9cd1559c96927d0</td>\n",
       "            </tr>\n",
       "    </tbody></table><style  type=\"text/css\" >\n",
       "</style><table id=\"T_64c35_\" style='border:2px solid;font-size:15px;margin:10px'><caption>subscribe_new_transaction</caption><thead>    <tr>        <th class=\"blank level0\" ></th>        <th class=\"col_heading level0 col0\" >network</th>        <th class=\"col_heading level0 col1\" >time</th>        <th class=\"col_heading level0 col2\" >hostname</th>        <th class=\"col_heading level0 col3\" >transaction_hash</th>    </tr></thead><tbody>\n",
       "                <tr>\n",
       "                        <th id=\"T_64c35_level0_row0\" class=\"row_heading level0 row0\" >0</th>\n",
       "                        <td id=\"T_64c35_row0_col0\" class=\"data row0 col0\" >aggron</td>\n",
       "                        <td id=\"T_64c35_row0_col1\" class=\"data row0 col1\" >2021-05-28 14:07:15.230075</td>\n",
       "                        <td id=\"T_64c35_row0_col2\" class=\"data row0 col2\" >aggron-tokyo</td>\n",
       "                        <td id=\"T_64c35_row0_col3\" class=\"data row0 col3\" >0xa0f5e3505e647aafed1a6837a31d648e34e71253974f36e9a9cd1559c96927d0</td>\n",
       "            </tr>\n",
       "    </tbody></table><style  type=\"text/css\" >\n",
       "</style><table id=\"T_a1a83_\" style='border:2px solid;font-size:15px;margin:10px'><caption>proposed_transaction</caption><thead>    <tr>        <th class=\"blank level0\" ></th>        <th class=\"col_heading level0 col0\" >network</th>        <th class=\"col_heading level0 col1\" >time</th>        <th class=\"col_heading level0 col2\" >hostname</th>        <th class=\"col_heading level0 col3\" >transaction_hash</th>    </tr></thead><tbody>\n",
       "        </tbody></table>"
      ]
     },
     "metadata": {},
     "output_type": "display_data"
    }
   ],
   "source": [
    "from IPython.display import display_html\n",
    "text=widgets.Text(\n",
    "    value='',\n",
    "    placeholder='Type transaction hash to search txs',\n",
    "    description='TX_HASH:',\n",
    "    disabled=False\n",
    ")\n",
    "display(text)\n",
    "def get_tx_by_hash(sender):\n",
    "    subscribe_new_transaction,tx_transaction,proposed_transaction =transactions_analyzer.get_new_transactions_by_hash(text.value)\n",
    "    tx_transaction_style = tx_transaction.style.set_table_attributes(\"style='border:2px solid;font-size:15px;margin:10px'\").set_caption(\"tx_transaction\")\n",
    "    subscribe_new_transaction_style = subscribe_new_transaction.style.set_table_attributes(\"style='border:2px solid;font-size:15px;margin:10px'\").set_caption(\"subscribe_new_transaction\")\n",
    "    proposed_transaction_style = proposed_transaction.style.set_table_attributes(\"style='border:2px solid;font-size:15px;margin:10px'\").set_caption(\"proposed_transaction\")\n",
    "    display_html(tx_transaction_style._repr_html_()+subscribe_new_transaction_style._repr_html_()+proposed_transaction_style._repr_html_(), raw=True)\n",
    "\n",
    "text.on_submit(get_tx_by_hash)"
   ]
  },
  {
   "cell_type": "markdown",
   "id": "168f29fc",
   "metadata": {},
   "source": [
    "# Latest 200 transactions"
   ]
  },
  {
   "cell_type": "markdown",
   "id": "ed918120",
   "metadata": {},
   "source": [
    "## Latest 200 transactions which are submitted to the pool"
   ]
  },
  {
   "cell_type": "code",
   "execution_count": null,
   "id": "c230f757",
   "metadata": {},
   "outputs": [],
   "source": [
    "tx_pool_transcations=transactions_analyzer.get_tx_pool_transcations()\n",
    "tx_pool_transcations.loc[:200].style.set_properties(**{'background-color': 'black',\n",
    "                           'color': 'lawngreen',\n",
    "                           'border-color': 'white'})"
   ]
  },
  {
   "cell_type": "markdown",
   "id": "7a240d76",
   "metadata": {},
   "source": [
    "## Latest 200 transactions which proposed on chain"
   ]
  },
  {
   "cell_type": "code",
   "execution_count": null,
   "id": "5cb0204b",
   "metadata": {},
   "outputs": [],
   "source": [
    "proposed_transactions=transactions_analyzer.get_proposed_transactions()\n",
    "tx_pool_transcations.loc[:200].style.set_properties(**{'background-color': 'black',\n",
    "                           'color': 'lawngreen',\n",
    "                           'border-color': 'white'})"
   ]
  },
  {
   "cell_type": "markdown",
   "id": "974f91ea",
   "metadata": {},
   "source": [
    "## Latest 200 transactions which recevide by different node"
   ]
  },
  {
   "cell_type": "code",
   "execution_count": null,
   "id": "78b1d268",
   "metadata": {},
   "outputs": [],
   "source": [
    "new_transactions=transactions_analyzer.get_new_transactions()\n",
    "new_transactions.loc[:200].style.set_properties(**{'background-color': 'black',\n",
    "                           'color': 'lawngreen',\n",
    "                           'border-color': 'white'})"
   ]
  },
  {
   "cell_type": "markdown",
   "id": "c6b5e9e7",
   "metadata": {},
   "source": [
    "# Display transactions data by PandasGUI"
   ]
  },
  {
   "cell_type": "code",
   "execution_count": 35,
   "id": "1caed657",
   "metadata": {
    "scrolled": true
   },
   "outputs": [
    {
     "name": "stdout",
     "output_type": "stream",
     "text": [
      "engine created!\n",
      "engine created!\n",
      "engine created!\n"
     ]
    },
    {
     "name": "stderr",
     "output_type": "stream",
     "text": [
      "PandasGUI INFO — pandasgui.gui — Opening PandasGUI...\n"
     ]
    },
    {
     "data": {
      "text/plain": [
       "<pandasgui.gui.PandasGui at 0x7f85e00e64c0>"
      ]
     },
     "execution_count": 35,
     "metadata": {},
     "output_type": "execute_result"
    }
   ],
   "source": [
    "tx_pool_transcations=transactions_analyzer.get_tx_pool_transcations()\n",
    "proposed_transaction=transactions_analyzer.get_proposed_transactions()\n",
    "new_transaction=transactions_analyzer.get_new_transactions()\n",
    "show(tx_pool_transcations,proposed_transaction,new_transaction)"
   ]
  }
 ],
 "metadata": {
  "kernelspec": {
   "display_name": "Python 3",
   "language": "python",
   "name": "python3"
  },
  "language_info": {
   "codemirror_mode": {
    "name": "ipython",
    "version": 3
   },
   "file_extension": ".py",
   "mimetype": "text/x-python",
   "name": "python",
   "nbconvert_exporter": "python",
   "pygments_lexer": "ipython3",
   "version": "3.8.8"
  }
 },
 "nbformat": 4,
 "nbformat_minor": 5
}
